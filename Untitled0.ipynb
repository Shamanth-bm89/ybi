{
  "nbformat": 4,
  "nbformat_minor": 0,
  "metadata": {
    "colab": {
      "provenance": [],
      "authorship_tag": "ABX9TyObpeASuG6NtdpF9f4UgTfO",
      "include_colab_link": true
    },
    "kernelspec": {
      "name": "python3",
      "display_name": "Python 3"
    },
    "language_info": {
      "name": "python"
    }
  },
  "cells": [
    {
      "cell_type": "markdown",
      "metadata": {
        "id": "view-in-github",
        "colab_type": "text"
      },
      "source": [
        "<a href=\"https://colab.research.google.com/github/Shamanth-bm89/ybi/blob/python/Untitled0.ipynb\" target=\"_parent\"><img src=\"https://colab.research.google.com/assets/colab-badge.svg\" alt=\"Open In Colab\"/></a>"
      ]
    },
    {
      "cell_type": "markdown",
      "source": [
        "**hand written digit prediction-classification analysis**\n"
      ],
      "metadata": {
        "id": "0rqnb8edUQG6"
      }
    },
    {
      "cell_type": "markdown",
      "source": [
        "# import library"
      ],
      "metadata": {
        "id": "NPT2ts90U2z6"
      }
    },
    {
      "cell_type": "code",
      "source": [
        "import pandas as pd"
      ],
      "metadata": {
        "id": "LXApEyJ3VBGH"
      },
      "execution_count": 5,
      "outputs": []
    },
    {
      "cell_type": "code",
      "source": [
        "import numpy as np"
      ],
      "metadata": {
        "id": "ZE7B_W_oVMNY"
      },
      "execution_count": 6,
      "outputs": []
    },
    {
      "cell_type": "code",
      "source": [
        "import matplotlib.pyplot as plt"
      ],
      "metadata": {
        "id": "Ldq45VpjVXHJ"
      },
      "execution_count": 9,
      "outputs": []
    },
    {
      "cell_type": "markdown",
      "source": [
        "# import data"
      ],
      "metadata": {
        "id": "gPtqOBDXVrSw"
      }
    },
    {
      "cell_type": "code",
      "source": [
        "from sklearn.datasets import load_digits"
      ],
      "metadata": {
        "id": "XUvtu_FQVvCG"
      },
      "execution_count": 12,
      "outputs": []
    },
    {
      "cell_type": "code",
      "source": [
        "df = load_digits()"
      ],
      "metadata": {
        "id": "0cppGTMIWAhC"
      },
      "execution_count": 13,
      "outputs": []
    },
    {
      "cell_type": "code",
      "source": [
        "_, axes =plt.subplots(nrows=1,ncols=4,figsize=(10,3))\n",
        "for ax,image,label in zip(axes,df.images,df.target):\n",
        "    ax.set_axis_off()\n",
        "    ax.imshow(image,cmap=plt.cm.gray_r,interpolation=\"nearest\")\n",
        "    ax.set_title(\"Training:%i\"%label)"
      ],
      "metadata": {
        "colab": {
          "base_uri": "https://localhost:8080/",
          "height": 227
        },
        "id": "5bHym1UyWFa8",
        "outputId": "5d631047-c087-48c1-8ac9-84a0a0b49b3b"
      },
      "execution_count": 27,
      "outputs": [
        {
          "output_type": "display_data",
          "data": {
            "text/plain": [
              "<Figure size 1000x300 with 4 Axes>"
            ],
            "image/png": "[encoded data removed]"
          },
          "metadata": {}
        }
      ]
    },
    {
      "cell_type": "markdown",
      "source": [
        "# Data preprocessing"
      ],
      "metadata": {
        "id": "hsjPhohzaOPI"
      }
    },
    {
      "cell_type": "markdown",
      "source": [
        "Flatten Images"
      ],
      "metadata": {
        "id": "IboVkwnya4rf"
      }
    },
    {
      "cell_type": "code",
      "source": [
        "df.images.shape"
      ],
      "metadata": {
        "colab": {
          "base_uri": "https://localhost:8080/"
        },
        "id": "A3pxO_2CbSwb",
        "outputId": "a21522be-1843-4374-834b-b97bd93cdccf"
      },
      "execution_count": 28,
      "outputs": [
        {
          "output_type": "execute_result",
          "data": {
            "text/plain": [
              "(1797, 8, 8)"
            ]
          },
          "metadata": {},
          "execution_count": 28
        }
      ]
    },
    {
      "cell_type": "code",
      "source": [
        "df.images[0]"
      ],
      "metadata": {
        "colab": {
          "base_uri": "https://localhost:8080/"
        },
        "id": "A29cHGXFbfLu",
        "outputId": "57b901ab-d960-4f09-babb-3d3138917c65"
      },
      "execution_count": 29,
      "outputs": [
        {
          "output_type": "execute_result",
          "data": {
            "text/plain": [
              "array([[ 0.,  0.,  5., 13.,  9.,  1.,  0.,  0.],\n",
              "       [ 0.,  0., 13., 15., 10., 15.,  5.,  0.],\n",
              "       [ 0.,  3., 15.,  2.,  0., 11.,  8.,  0.],\n",
              "       [ 0.,  4., 12.,  0.,  0.,  8.,  8.,  0.],\n",
              "       [ 0.,  5.,  8.,  0.,  0.,  9.,  8.,  0.],\n",
              "       [ 0.,  4., 11.,  0.,  1., 12.,  7.,  0.],\n",
              "       [ 0.,  2., 14.,  5., 10., 12.,  0.,  0.],\n",
              "       [ 0.,  0.,  6., 13., 10.,  0.,  0.,  0.]])"
            ]
          },
          "metadata": {},
          "execution_count": 29
        }
      ]
    },
    {
      "cell_type": "code",
      "source": [
        "df.images[0].shape"
      ],
      "metadata": {
        "colab": {
          "base_uri": "https://localhost:8080/"
        },
        "id": "9azmwrbUblpI",
        "outputId": "cb38305b-0fa3-4b87-b3fe-d4b438830a58"
      },
      "execution_count": 30,
      "outputs": [
        {
          "output_type": "execute_result",
          "data": {
            "text/plain": [
              "(8, 8)"
            ]
          },
          "metadata": {},
          "execution_count": 30
        }
      ]
    },
    {
      "cell_type": "code",
      "source": [
        "len(df.images)"
      ],
      "metadata": {
        "colab": {
          "base_uri": "https://localhost:8080/"
        },
        "id": "a0wGrIFKbv9Q",
        "outputId": "a7016c7d-65b6-4a31-eb09-988090f76284"
      },
      "execution_count": 31,
      "outputs": [
        {
          "output_type": "execute_result",
          "data": {
            "text/plain": [
              "1797"
            ]
          },
          "metadata": {},
          "execution_count": 31
        }
      ]
    },
    {
      "cell_type": "code",
      "source": [
        "n_samples=len(df.images)\n",
        "data=df.images.reshape((n_samples,-1))"
      ],
      "metadata": {
        "id": "KSM1oA5Cb75W"
      },
      "execution_count": 32,
      "outputs": []
    },
    {
      "cell_type": "code",
      "source": [
        "data[0]"
      ],
      "metadata": {
        "colab": {
          "base_uri": "https://localhost:8080/"
        },
        "id": "JTIYKru_cRSg",
        "outputId": "221f73a5-561f-44c5-9cd3-89193aa3a402"
      },
      "execution_count": 33,
      "outputs": [
        {
          "output_type": "execute_result",
          "data": {
            "text/plain": [
              "array([ 0.,  0.,  5., 13.,  9.,  1.,  0.,  0.,  0.,  0., 13., 15., 10.,\n",
              "       15.,  5.,  0.,  0.,  3., 15.,  2.,  0., 11.,  8.,  0.,  0.,  4.,\n",
              "       12.,  0.,  0.,  8.,  8.,  0.,  0.,  5.,  8.,  0.,  0.,  9.,  8.,\n",
              "        0.,  0.,  4., 11.,  0.,  1., 12.,  7.,  0.,  0.,  2., 14.,  5.,\n",
              "       10., 12.,  0.,  0.,  0.,  0.,  6., 13., 10.,  0.,  0.,  0.])"
            ]
          },
          "metadata": {},
          "execution_count": 33
        }
      ]
    },
    {
      "cell_type": "code",
      "source": [
        "data[0].shape"
      ],
      "metadata": {
        "colab": {
          "base_uri": "https://localhost:8080/"
        },
        "id": "R2HJbtZBcXGt",
        "outputId": "e25fd6d8-462a-4435-ba8d-93e0e8a17bca"
      },
      "execution_count": 34,
      "outputs": [
        {
          "output_type": "execute_result",
          "data": {
            "text/plain": [
              "(64,)"
            ]
          },
          "metadata": {},
          "execution_count": 34
        }
      ]
    },
    {
      "cell_type": "code",
      "source": [
        "data.shape"
      ],
      "metadata": {
        "colab": {
          "base_uri": "https://localhost:8080/"
        },
        "id": "oeWVUxJZcdAE",
        "outputId": "66870d07-4bcf-4697-fa77-60f15bc98a65"
      },
      "execution_count": 35,
      "outputs": [
        {
          "output_type": "execute_result",
          "data": {
            "text/plain": [
              "(1797, 64)"
            ]
          },
          "metadata": {},
          "execution_count": 35
        }
      ]
    },
    {
      "cell_type": "markdown",
      "source": [
        "# Scaling image data"
      ],
      "metadata": {
        "id": "w0yvaI1ucm5M"
      }
    },
    {
      "cell_type": "code",
      "source": [
        "data.min()"
      ],
      "metadata": {
        "colab": {
          "base_uri": "https://localhost:8080/"
        },
        "id": "IAC6t3Yicsi-",
        "outputId": "6ae0aca2-20af-4537-fa1d-201172a8ddb6"
      },
      "execution_count": 36,
      "outputs": [
        {
          "output_type": "execute_result",
          "data": {
            "text/plain": [
              "0.0"
            ]
          },
          "metadata": {},
          "execution_count": 36
        }
      ]
    },
    {
      "cell_type": "code",
      "source": [
        "data.max()"
      ],
      "metadata": {
        "colab": {
          "base_uri": "https://localhost:8080/"
        },
        "id": "2xfe35-Dcw4j",
        "outputId": "e60a20f2-b886-4235-fd27-13735a25ad1a"
      },
      "execution_count": 37,
      "outputs": [
        {
          "output_type": "execute_result",
          "data": {
            "text/plain": [
              "16.0"
            ]
          },
          "metadata": {},
          "execution_count": 37
        }
      ]
    },
    {
      "cell_type": "code",
      "source": [
        "data=data/16"
      ],
      "metadata": {
        "id": "I4sC8kjyczbh"
      },
      "execution_count": 38,
      "outputs": []
    },
    {
      "cell_type": "code",
      "source": [
        "data.min()"
      ],
      "metadata": {
        "colab": {
          "base_uri": "https://localhost:8080/"
        },
        "id": "Hf-5qMRSc7EP",
        "outputId": "5c391195-317a-4a6b-e540-78351bdb88f2"
      },
      "execution_count": 39,
      "outputs": [
        {
          "output_type": "execute_result",
          "data": {
            "text/plain": [
              "0.0"
            ]
          },
          "metadata": {},
          "execution_count": 39
        }
      ]
    },
    {
      "cell_type": "code",
      "source": [
        "data.max()"
      ],
      "metadata": {
        "colab": {
          "base_uri": "https://localhost:8080/"
        },
        "id": "zZ6IRfqoc-jh",
        "outputId": "60c7f466-feab-46ba-cc31-4dcaa061a033"
      },
      "execution_count": 40,
      "outputs": [
        {
          "output_type": "execute_result",
          "data": {
            "text/plain": [
              "1.0"
            ]
          },
          "metadata": {},
          "execution_count": 40
        }
      ]
    },
    {
      "cell_type": "code",
      "source": [
        "data[0]"
      ],
      "metadata": {
        "colab": {
          "base_uri": "https://localhost:8080/"
        },
        "id": "meb4pRqodD3k",
        "outputId": "c2a833d5-0383-4349-a983-2658842a9567"
      },
      "execution_count": 50,
      "outputs": [
        {
          "output_type": "execute_result",
          "data": {
            "text/plain": [
              "array([0.    , 0.    , 0.3125, 0.8125, 0.5625, 0.0625, 0.    , 0.    ,\n",
              "       0.    , 0.    , 0.8125, 0.9375, 0.625 , 0.9375, 0.3125, 0.    ,\n",
              "       0.    , 0.1875, 0.9375, 0.125 , 0.    , 0.6875, 0.5   , 0.    ,\n",
              "       0.    , 0.25  , 0.75  , 0.    , 0.    , 0.5   , 0.5   , 0.    ,\n",
              "       0.    , 0.3125, 0.5   , 0.    , 0.    , 0.5625, 0.5   , 0.    ,\n",
              "       0.    , 0.25  , 0.6875, 0.    , 0.0625, 0.75  , 0.4375, 0.    ,\n",
              "       0.    , 0.125 , 0.875 , 0.3125, 0.625 , 0.75  , 0.    , 0.    ,\n",
              "       0.    , 0.    , 0.375 , 0.8125, 0.625 , 0.    , 0.    , 0.    ])"
            ]
          },
          "metadata": {},
          "execution_count": 50
        }
      ]
    },
    {
      "cell_type": "markdown",
      "source": [
        "# Train test split data"
      ],
      "metadata": {
        "id": "XufmnDhJdoxe"
      }
    },
    {
      "cell_type": "code",
      "source": [
        "from sklearn.model_selection import train_test_split"
      ],
      "metadata": {
        "id": "59bggaPPdvKn"
      },
      "execution_count": 49,
      "outputs": []
    },
    {
      "cell_type": "code",
      "source": [
        "from IPython.testing import test\n",
        "x_train, x_test, y_train, y_test = train_test_split(data,df.target,test_size=0.3)"
      ],
      "metadata": {
        "id": "W31T4IUif9kU"
      },
      "execution_count": 56,
      "outputs": []
    },
    {
      "cell_type": "code",
      "source": [
        "x_train.shape, x_test.shape,y_train.shape,y_test.shape"
      ],
      "metadata": {
        "colab": {
          "base_uri": "https://localhost:8080/"
        },
        "id": "T0QvLXpmhKtJ",
        "outputId": "bcd2af3a-a62b-4a78-dfbc-c854780bc417"
      },
      "execution_count": 57,
      "outputs": [
        {
          "output_type": "execute_result",
          "data": {
            "text/plain": [
              "((1257, 64), (540, 64), (1257,), (540,))"
            ]
          },
          "metadata": {},
          "execution_count": 57
        }
      ]
    },
    {
      "cell_type": "markdown",
      "source": [
        "# Randam forest model"
      ],
      "metadata": {
        "id": "9saHGTJ0hdYO"
      }
    },
    {
      "cell_type": "code",
      "source": [
        "from sklearn.ensemble import RandomForestClassifier"
      ],
      "metadata": {
        "id": "wyrnlH3ehoAm"
      },
      "execution_count": 58,
      "outputs": []
    },
    {
      "cell_type": "code",
      "source": [
        "rf = RandomForestClassifier()"
      ],
      "metadata": {
        "id": "jj6vwGxNhy9z"
      },
      "execution_count": 59,
      "outputs": []
    },
    {
      "cell_type": "code",
      "source": [
        "rf.fit(x_train,y_train)"
      ],
      "metadata": {
        "colab": {
          "base_uri": "https://localhost:8080/",
          "height": 74
        },
        "id": "XW68uudih4rA",
        "outputId": "91e89d14-b2fb-4b91-da5e-5470cb539cb9"
      },
      "execution_count": 61,
      "outputs": [
        {
          "output_type": "execute_result",
          "data": {
            "text/plain": [
              "RandomForestClassifier()"
            ],
            "text/html": [
              "<style>#sk-container-id-1 {color: black;background-color: white;}#sk-container-id-1 pre{padding: 0;}#sk-container-id-1 div.sk-toggleable {background-color: white;}#sk-container-id-1 label.sk-toggleable__label {cursor: pointer;display: block;width: 100%;margin-bottom: 0;padding: 0.3em;box-sizing: border-box;text-align: center;}#sk-container-id-1 label.sk-toggleable__label-arrow:before {content: \"▸\";float: left;margin-right: 0.25em;color: #696969;}#sk-container-id-1 label.sk-toggleable__label-arrow:hover:before {color: black;}#sk-container-id-1 div.sk-estimator:hover label.sk-toggleable__label-arrow:before {color: black;}#sk-container-id-1 div.sk-toggleable__content {max-height: 0;max-width: 0;overflow: hidden;text-align: left;background-color: #f0f8ff;}#sk-container-id-1 div.sk-toggleable__content pre {margin: 0.2em;color: black;border-radius: 0.25em;background-color: #f0f8ff;}#sk-container-id-1 input.sk-toggleable__control:checked~div.sk-toggleable__content {max-height: 200px;max-width: 100%;overflow: auto;}#sk-container-id-1 input.sk-toggleable__control:checked~label.sk-toggleable__label-arrow:before {content: \"▾\";}#sk-container-id-1 div.sk-estimator input.sk-toggleable__control:checked~label.sk-toggleable__label {background-color: #d4ebff;}#sk-container-id-1 div.sk-label input.sk-toggleable__control:checked~label.sk-toggleable__label {background-color: #d4ebff;}#sk-container-id-1 input.sk-hidden--visually {border: 0;clip: rect(1px 1px 1px 1px);clip: rect(1px, 1px, 1px, 1px);height: 1px;margin: -1px;overflow: hidden;padding: 0;position: absolute;width: 1px;}#sk-container-id-1 div.sk-estimator {font-family: monospace;background-color: #f0f8ff;border: 1px dotted black;border-radius: 0.25em;box-sizing: border-box;margin-bottom: 0.5em;}#sk-container-id-1 div.sk-estimator:hover {background-color: #d4ebff;}#sk-container-id-1 div.sk-parallel-item::after {content: \"\";width: 100%;border-bottom: 1px solid gray;flex-grow: 1;}#sk-container-id-1 div.sk-label:hover label.sk-toggleable__label {background-color: #d4ebff;}#sk-container-id-1 div.sk-serial::before {content: \"\";position: absolute;border-left: 1px solid gray;box-sizing: border-box;top: 0;bottom: 0;left: 50%;z-index: 0;}#sk-container-id-1 div.sk-serial {display: flex;flex-direction: column;align-items: center;background-color: white;padding-right: 0.2em;padding-left: 0.2em;position: relative;}#sk-container-id-1 div.sk-item {position: relative;z-index: 1;}#sk-container-id-1 div.sk-parallel {display: flex;align-items: stretch;justify-content: center;background-color: white;position: relative;}#sk-container-id-1 div.sk-item::before, #sk-container-id-1 div.sk-parallel-item::before {content: \"\";position: absolute;border-left: 1px solid gray;box-sizing: border-box;top: 0;bottom: 0;left: 50%;z-index: -1;}#sk-container-id-1 div.sk-parallel-item {display: flex;flex-direction: column;z-index: 1;position: relative;background-color: white;}#sk-container-id-1 div.sk-parallel-item:first-child::after {align-self: flex-end;width: 50%;}#sk-container-id-1 div.sk-parallel-item:last-child::after {align-self: flex-start;width: 50%;}#sk-container-id-1 div.sk-parallel-item:only-child::after {width: 0;}#sk-container-id-1 div.sk-dashed-wrapped {border: 1px dashed gray;margin: 0 0.4em 0.5em 0.4em;box-sizing: border-box;padding-bottom: 0.4em;background-color: white;}#sk-container-id-1 div.sk-label label {font-family: monospace;font-weight: bold;display: inline-block;line-height: 1.2em;}#sk-container-id-1 div.sk-label-container {text-align: center;}#sk-container-id-1 div.sk-container {/* jupyter's `normalize.less` sets `[hidden] { display: none; }` but bootstrap.min.css set `[hidden] { display: none !important; }` so we also need the `!important` here to be able to override the default hidden behavior on the sphinx rendered scikit-learn.org. See: https://github.com/scikit-learn/scikit-learn/issues/21755 */display: inline-block !important;position: relative;}#sk-container-id-1 div.sk-text-repr-fallback {display: none;}</style><div id=\"sk-container-id-1\" class=\"sk-top-container\"><div class=\"sk-text-repr-fallback\"><pre>RandomForestClassifier()</pre><b>In a Jupyter environment, please rerun this cell to show the HTML representation or trust the notebook. <br />On GitHub, the HTML representation is unable to render, please try loading this page with nbviewer.org.</b></div><div class=\"sk-container\" hidden><div class=\"sk-item\"><div class=\"sk-estimator sk-toggleable\"><input class=\"sk-toggleable__control sk-hidden--visually\" id=\"sk-estimator-id-1\" type=\"checkbox\" checked><label for=\"sk-estimator-id-1\" class=\"sk-toggleable__label sk-toggleable__label-arrow\">RandomForestClassifier</label><div class=\"sk-toggleable__content\"><pre>RandomForestClassifier()</pre></div></div></div></div></div>"
            ]
          },
          "metadata": {},
          "execution_count": 61
        }
      ]
    },
    {
      "cell_type": "markdown",
      "source": [
        "# Predict Test data"
      ],
      "metadata": {
        "id": "g-Xc96iCiaQN"
      }
    },
    {
      "cell_type": "code",
      "source": [
        "y_pred=rf.predict(x_test)"
      ],
      "metadata": {
        "id": "0JiOqIMNie_9"
      },
      "execution_count": 62,
      "outputs": []
    },
    {
      "cell_type": "code",
      "source": [
        "y_pred"
      ],
      "metadata": {
        "colab": {
          "base_uri": "https://localhost:8080/"
        },
        "id": "5kBWTyJriqsK",
        "outputId": "763e4781-5538-4d2e-e654-7ad219f0f3d8"
      },
      "execution_count": 63,
      "outputs": [
        {
          "output_type": "execute_result",
          "data": {
            "text/plain": [
              "array([4, 7, 1, 7, 4, 7, 6, 7, 2, 2, 4, 7, 4, 2, 5, 5, 7, 5, 0, 2, 3, 3,\n",
              "       9, 4, 5, 4, 2, 1, 4, 6, 9, 0, 0, 0, 8, 3, 3, 4, 8, 4, 5, 4, 7, 2,\n",
              "       4, 6, 8, 1, 0, 0, 5, 2, 1, 6, 3, 5, 5, 4, 1, 5, 0, 2, 2, 0, 3, 9,\n",
              "       0, 7, 7, 6, 7, 8, 5, 5, 7, 6, 5, 4, 8, 4, 6, 0, 3, 3, 1, 8, 0, 0,\n",
              "       2, 3, 6, 2, 4, 2, 8, 2, 6, 8, 8, 5, 1, 3, 4, 4, 3, 3, 0, 9, 5, 6,\n",
              "       3, 6, 3, 9, 3, 1, 3, 9, 6, 8, 7, 6, 0, 6, 1, 2, 3, 4, 4, 9, 8, 4,\n",
              "       1, 2, 8, 0, 2, 1, 5, 4, 1, 2, 8, 1, 0, 0, 5, 9, 9, 1, 9, 4, 1, 5,\n",
              "       4, 0, 3, 8, 8, 8, 5, 8, 5, 7, 1, 5, 9, 5, 9, 4, 1, 4, 1, 9, 2, 0,\n",
              "       1, 4, 2, 9, 9, 5, 8, 4, 9, 9, 3, 1, 7, 8, 0, 6, 8, 1, 7, 1, 9, 0,\n",
              "       9, 4, 6, 1, 1, 0, 1, 9, 4, 6, 9, 9, 6, 8, 2, 0, 6, 2, 6, 5, 4, 2,\n",
              "       3, 0, 7, 6, 2, 3, 2, 6, 7, 3, 3, 4, 3, 8, 5, 4, 7, 7, 9, 9, 5, 9,\n",
              "       8, 1, 4, 7, 5, 5, 3, 4, 3, 5, 0, 2, 6, 8, 8, 7, 6, 6, 6, 2, 8, 5,\n",
              "       9, 7, 4, 1, 6, 2, 7, 0, 0, 6, 5, 0, 0, 9, 7, 0, 9, 1, 3, 0, 1, 5,\n",
              "       0, 5, 7, 1, 7, 3, 6, 1, 0, 8, 5, 9, 1, 4, 9, 6, 8, 2, 5, 3, 7, 5,\n",
              "       0, 4, 1, 8, 0, 4, 0, 5, 4, 3, 7, 7, 9, 1, 8, 0, 7, 6, 7, 4, 6, 5,\n",
              "       9, 1, 5, 4, 4, 8, 8, 0, 2, 9, 4, 5, 1, 3, 2, 5, 8, 8, 6, 7, 3, 8,\n",
              "       4, 4, 6, 0, 4, 1, 7, 7, 5, 8, 0, 5, 7, 8, 8, 6, 2, 0, 1, 2, 5, 7,\n",
              "       1, 0, 2, 8, 4, 2, 4, 9, 6, 6, 8, 6, 5, 5, 1, 4, 6, 1, 7, 9, 7, 5,\n",
              "       9, 2, 5, 3, 6, 6, 6, 3, 8, 9, 1, 0, 8, 2, 2, 9, 0, 2, 6, 4, 8, 6,\n",
              "       0, 3, 8, 4, 5, 0, 7, 0, 5, 0, 0, 8, 9, 3, 4, 7, 8, 5, 5, 5, 3, 3,\n",
              "       8, 1, 2, 2, 0, 5, 4, 3, 5, 4, 7, 1, 7, 7, 7, 8, 8, 9, 2, 7, 9, 1,\n",
              "       7, 5, 2, 2, 4, 0, 4, 7, 2, 2, 0, 4, 0, 2, 1, 5, 4, 6, 5, 1, 5, 0,\n",
              "       3, 7, 8, 4, 7, 4, 3, 3, 8, 5, 9, 4, 1, 9, 2, 0, 0, 4, 1, 9, 9, 0,\n",
              "       7, 6, 9, 1, 1, 1, 6, 4, 7, 5, 7, 8, 2, 6, 0, 3, 7, 5, 9, 2, 7, 0,\n",
              "       3, 1, 7, 9, 8, 3, 2, 3, 7, 1, 5, 2])"
            ]
          },
          "metadata": {},
          "execution_count": 63
        }
      ]
    },
    {
      "cell_type": "markdown",
      "source": [
        "# Model accuracy"
      ],
      "metadata": {
        "id": "GYCnr8yujF6C"
      }
    },
    {
      "cell_type": "code",
      "source": [
        "from sklearn.metrics import confusion_matrix,classification_report"
      ],
      "metadata": {
        "id": "ubH1nmptjLXj"
      },
      "execution_count": 64,
      "outputs": []
    },
    {
      "cell_type": "code",
      "source": [
        "confusion_matrix(y_test,y_pred)"
      ],
      "metadata": {
        "colab": {
          "base_uri": "https://localhost:8080/"
        },
        "id": "KRZy8sk5jYMF",
        "outputId": "0fc31c12-31da-481e-e8cd-72e265ff42ff"
      },
      "execution_count": 65,
      "outputs": [
        {
          "output_type": "execute_result",
          "data": {
            "text/plain": [
              "array([[59,  0,  0,  0,  0,  0,  0,  0,  0,  0],\n",
              "       [ 0, 52,  0,  0,  0,  0,  0,  0,  0,  0],\n",
              "       [ 0,  0, 51,  0,  0,  0,  0,  0,  0,  0],\n",
              "       [ 0,  1,  0, 46,  0,  2,  0,  0,  1,  1],\n",
              "       [ 0,  0,  0,  0, 63,  0,  0,  0,  0,  0],\n",
              "       [ 0,  0,  0,  0,  0, 58,  0,  0,  0,  1],\n",
              "       [ 0,  0,  0,  0,  0,  0, 48,  0,  0,  0],\n",
              "       [ 0,  0,  0,  0,  0,  0,  0, 53,  0,  1],\n",
              "       [ 0,  1,  0,  0,  0,  1,  0,  0, 52,  0],\n",
              "       [ 0,  0,  0,  0,  0,  1,  0,  3,  0, 45]])"
            ]
          },
          "metadata": {},
          "execution_count": 65
        }
      ]
    },
    {
      "cell_type": "code",
      "source": [
        "print(classification_report(y_test,y_pred))"
      ],
      "metadata": {
        "colab": {
          "base_uri": "https://localhost:8080/"
        },
        "id": "WEXw7eCrjiL_",
        "outputId": "423524e8-5ad1-4419-bd75-cd720f5e90a1"
      },
      "execution_count": 66,
      "outputs": [
        {
          "output_type": "stream",
          "name": "stdout",
          "text": [
            "              precision    recall  f1-score   support\n",
            "\n",
            "           0       1.00      1.00      1.00        59\n",
            "           1       0.96      1.00      0.98        52\n",
            "           2       1.00      1.00      1.00        51\n",
            "           3       1.00      0.90      0.95        51\n",
            "           4       1.00      1.00      1.00        63\n",
            "           5       0.94      0.98      0.96        59\n",
            "           6       1.00      1.00      1.00        48\n",
            "           7       0.95      0.98      0.96        54\n",
            "           8       0.98      0.96      0.97        54\n",
            "           9       0.94      0.92      0.93        49\n",
            "\n",
            "    accuracy                           0.98       540\n",
            "   macro avg       0.98      0.97      0.98       540\n",
            "weighted avg       0.98      0.98      0.98       540\n",
            "\n"
          ]
        }
      ]
    }
  ]
}